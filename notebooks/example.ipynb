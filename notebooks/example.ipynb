{
 "cells": [
  {
   "cell_type": "markdown",
   "id": "cb4f99c1",
   "metadata": {},
   "source": [
    "# EarthReach - Weather Chart Description Generation Example "
   ]
  },
  {
   "cell_type": "markdown",
   "id": "7918fff6",
   "metadata": {},
   "source": [
    "### Introduction\n",
    "\n",
    "EarthReach is a Python library for generating natural language descriptions of meteorological data visualizations. The library extends **earthkit-plots** by providing automated text generation capabilities for weather charts, enabling programmatic conversion of visual data representations into structured textual descriptions.\n",
    "\n",
    "The system implements a dual-LLM architecture consisting of a generator agent and an evaluator agent. The generator creates initial descriptions from chart images and associated GRIB file metadata, while the evaluator assesses output quality across multiple criteria including scientific accuracy, coherence, and meteorological relevance. This iterative process continues until quality thresholds are met or maximum iterations are reached.\n",
    "\n",
    "This notebook demonstrates the workflow for using the EarthReachAgent API to generate descriptions of weather charts.\n",
    "\n",
    "### Prerequisites\n",
    "\n",
    "Before running this notebook, ensure you have:\n",
    "\n",
    "- **Python 3.12+** with all project dependencies installed\n",
    "- **[Climate Data Store](https://cds.climate.copernicus.eu/how-to-api) API key** configured for accessing meteorological data\n",
    "- **LLM provider API key** set as an environment variable (supports OpenAI, Anthropic, or compatible endpoints)\n",
    "\n",
    "For more detailed setup instructions, refer to the [installation documentation](../docs/source/installation.rst)."
   ]
  },
  {
   "cell_type": "code",
   "execution_count": null,
   "id": "8791358b",
   "metadata": {},
   "outputs": [],
   "source": [
    "import earthkit.plots as ekp\n",
    "import earthkit.data as ekd\n",
    "from earth_reach import EarthReachAgent\n",
    "from textwrap import fill\n",
    "import warnings\n",
    "import logging\n",
    "\n",
    "logging.getLogger('htpx').setLevel(logging.WARNING)\n",
    "logging.getLogger('google_genai').setLevel(logging.WARNING)\n",
    "\n",
    "warnings.filterwarnings('ignore')"
   ]
  },
  {
   "cell_type": "code",
   "execution_count": null,
   "id": "d22b505a",
   "metadata": {},
   "outputs": [],
   "source": [
    "# Load your data with earthkit-data\n",
    "request = {\n",
    "    \"product_type\": [\"reanalysis\"],\n",
    "    \"variable\": [\"2m_temperature\", \"mean_sea_level_pressure\"],\n",
    "    \"day\": ['30'],\n",
    "    \"month\": ['04'],\n",
    "    \"year\": ['2025'],\n",
    "    \"time\": ['12:00'],\n",
    "    \"data_format\": \"grib\",\n",
    "    \"download_format\": \"unarchived\",\n",
    "}\n",
    "dataset = \"reanalysis-era5-single-levels\"\n",
    "data = ekd.from_source(\"cds\", dataset, request)\n",
    "\n",
    "# Preprocess the data as you like, but make sure these two variables are present in the dataset\n",
    "sub_data = data.sel(param=[\"2t\", \"msl\"], typeOfLevel=\"surface\")\n",
    "\n",
    "# Create a weather chart with earthkit-plots\n",
    "figure = ekp.quickplot(sub_data, domain='France', units=['celsius', 'hPa'], mode=\"overlay\")\n",
    "\n",
    "# Generate description\n",
    "agent = EarthReachAgent(provider=\"gemini\", model_name='gemini-2.5-pr') \n",
    "description = agent.generate_alt_description(figure, sub_data)\n",
    "\n",
    "# Visualize description\n",
    "print('\\nGenerated Description:')\n",
    "print('-' * 22)\n",
    "print(fill(description, 88))"
   ]
  }
 ],
 "metadata": {
  "kernelspec": {
   "display_name": "EarthReach",
   "language": "python",
   "name": "python3"
  },
  "language_info": {
   "codemirror_mode": {
    "name": "ipython",
    "version": 3
   },
   "file_extension": ".py",
   "mimetype": "text/x-python",
   "name": "python",
   "nbconvert_exporter": "python",
   "pygments_lexer": "ipython3",
   "version": "3.12.9"
  }
 },
 "nbformat": 4,
 "nbformat_minor": 5
}
